{
 "cells": [
  {
   "cell_type": "markdown",
   "metadata": {
    "colab_type": "text",
    "id": "PYubDSiwGQAh"
   },
   "source": [
    "# CS 436 CS5310 - Computer Vision - Assignment#4 - Part#1\n",
    "\n",
    "*__Submission Instructions:__*\n",
    "- Rename this notebook to `PA4_rollnumber.ipynb` before submission on LMS.\n",
    "- Code for all the tasks must be written in this notebook (you do not need to submit any other files).\n",
    "- The output of all cells must be present in the version of the notebook you submit.\n",
    "- The university honor code should be maintained. Any violation, if found, will result in disciplinary action."
   ]
  },
  {
   "cell_type": "code",
   "execution_count": 0,
   "metadata": {
    "colab": {},
    "colab_type": "code",
    "id": "UUlVZWsoGULv"
   },
   "outputs": [],
   "source": [
    "#Executed on Colab\n",
    "#Import all the required libraries\n",
    "import keras\n",
    "from keras.datasets import fashion_mnist\n",
    "from keras.layers import Activation, Input, Embedding, LSTM, Dense, Lambda, GaussianNoise, concatenate\n",
    "from keras.models import Model\n",
    "import numpy as np\n",
    "from keras.utils import np_utils\n",
    "from keras.layers.core import Dense, Dropout, Activation\n",
    "from keras import backend as K\n",
    "from keras.models import Sequential\n",
    "from keras.layers import Dense\n",
    "from sklearn.model_selection import train_test_split\n",
    "from keras.optimizers import SGD, Adam, RMSprop\n",
    "from keras.constraints import max_norm\n",
    "from keras.layers import MaxPooling2D, Dropout, Dense, Flatten, Activation, Conv2D, GlobalAveragePooling2D\n",
    "from keras.models import Sequential\n",
    "from keras.losses import categorical_crossentropy as logloss\n",
    "from keras.metrics import categorical_accuracy\n",
    "from keras.applications import vgg16\n",
    "import matplotlib.pyplot as plt\n",
    "from sklearn.metrics import mean_squared_error\n",
    "from matplotlib import offsetbox\n",
    "import cv2\n",
    "%matplotlib inline\n",
    "import matplotlib.pyplot as plt\n",
    "plt.style.use('seaborn')\n",
    "import seaborn as sn\n",
    "from sklearn.metrics import confusion_matrix"
   ]
  },
  {
   "cell_type": "markdown",
   "metadata": {
    "colab_type": "text",
    "id": "4YNoEeQiGdGi"
   },
   "source": [
    "## Overview\n",
    "\n",
    "In this assignment you will be exploring a few important concepts used in the deep learning projects:\n",
    "- Training image classification algorithms using Deep Learning\n",
    "- Dataset Analyses \n",
    "- Testing deep learning classifier with the test data\n",
    "- Fine-tuning / Transfer Learning\n",
    "\n",
    "We will be using the Fashion MNIST dataset that is provided by Keras. You will also be working with pretrained models, which can be downloaded from keras applications. You are **highly** encouraged to explore the images in dataset and model architectures in order to get the most out of this assignment. \n",
    "\n",
    "**_Dataset:_**\n",
    "Fashion-MNIST is a dataset of  article images from a e-commerce website named zalando with 70,000 images of size (28x28x1) each belonging to one of the 10 classes.\n",
    "\n",
    "**_Pretrained Models:_** \n",
    "Can be found [here](https://keras.io/applications/#applications)"
   ]
  },
  {
   "cell_type": "markdown",
   "metadata": {
    "colab_type": "text",
    "id": "1dSvdXobGlZy"
   },
   "source": [
    "## Task 1: Data Preparation for transfer learning\n",
    "\n",
    "To prepare your data:\n",
    "- Download the Fashion MNIST dataset\n",
    "- Split it into train, validation, and test sets\n",
    "- Convert the labels into categorical one hot encoded labels\n",
    "- Cast the images as float and normalize the values between zero and one\n",
    "- The Fashion MNIST dataset contains images of shape (28,28,1), the mimumm (height,width,channels) required by our pretrained model(in this case vgg-16) is (32,32,3)\n",
    "- Convert the images in the datset to shape (32,32,3)"
   ]
  },
  {
   "cell_type": "code",
   "execution_count": 0,
   "metadata": {
    "colab": {},
    "colab_type": "code",
    "id": "t3SNrR8VGaCP"
   },
   "outputs": [],
   "source": [
    "nb_classes = 10\n",
    "#Download Fashion MNIST dataset(Done for you)\n",
    "(X_Train, y_Train), (X_test, y_test) = fashion_mnist.load_data()\n",
    "#Split the fashion MNIST dataset into train, validation and test sets (Done for you)\n",
    "X_train, X_val, y_train, y_val = train_test_split(X_Train, y_Train, test_size=0.20)\n",
    "\n",
    "#Convert y_train,y_val and y_test to categorical binary values \n",
    "#TO DO\n",
    "keras.utils.to_categorical(y_train, nb_classes, dtype='float32')\n",
    "keras.utils.to_categorical(y_val, nb_classes, dtype='float32')\n",
    "keras.utils.to_categorical(y_test, nb_classes, dtype='float32')\n",
    "#Hint\n",
    "#See function \"np_utils.to_categorical()\""
   ]
  },
  {
   "cell_type": "code",
   "execution_count": 0,
   "metadata": {
    "colab": {},
    "colab_type": "code",
    "id": "_Lc7sFV0HAK5"
   },
   "outputs": [],
   "source": [
    "#Reshape your dataset to batch_size, width, height, #channels(Done for you)\n",
    "X_train = X_train.reshape(48000, 28, 28, 1)\n",
    "X_val = X_val.reshape(12000, 28, 28, 1)\n",
    "X_test = X_test.reshape(10000, 28, 28, 1)\n",
    "\n",
    "#Convert your dataset to float type\n",
    "#TO DO\n",
    "\n",
    "#Normalize the values\n",
    "#TO DO"
   ]
  },
  {
   "cell_type": "code",
   "execution_count": 0,
   "metadata": {
    "colab": {},
    "colab_type": "code",
    "id": "_3SnJ0dRHO_f"
   },
   "outputs": [],
   "source": [
    "#Preprocess the data for our pretrained model(requires 3 channels) and a mimimum height and width of 32.\n",
    "#Convert all images to shape (32,32,3)\n",
    "X_train_new=[]\n",
    "X_val_new=[]\n",
    "\n",
    "#TO DO"
   ]
  },
  {
   "cell_type": "code",
   "execution_count": 0,
   "metadata": {
    "colab": {},
    "colab_type": "code",
    "id": "daOrE-w3Hd_P"
   },
   "outputs": [],
   "source": [
    "def add_new_last_layer(base_model, nb_classes):\n",
    "    \"\"\"Add last layer to the convnet\n",
    "    Args:\n",
    "    base_model: keras model excluding top layer\n",
    "    nb_classes: number of classes\n",
    "    Returns:\n",
    "    new keras model with last fully connected layer\n",
    "    \"\"\"\n",
    "    FC_SIZE=1024\n",
    "    x = base_model.output\n",
    "    x = GlobalAveragePooling2D()(x)\n",
    "    x = Dense(FC_SIZE, activation='relu')(x) \n",
    "    predictions = Dense(nb_classes, activation='softmax')(x) \n",
    "    model = Model(input=base_model.input, output=predictions)\n",
    "    return model"
   ]
  },
  {
   "cell_type": "markdown",
   "metadata": {
    "colab_type": "text",
    "id": "XAg5AHSrHuPa"
   },
   "source": [
    "## Task 2: Transfer Learning\n",
    "\n",
    "Next you will employ Transfer Learning and finetune the pretrained vgg-16 model to better fit the Fashion MNIST data for 10 classes. You will:\n",
    "\n",
    "- Change the number of nodes in the last FC layer according to the number of classes i.e. 10 \n",
    "- Freeze everything except the FC layers and train it using the train split of our dataset (using appropriate hyperparameters), validating the network for validation split of data.\n",
    "- Plot loss/accuracy vs epochs curves for your simulation\n",
    "\n"
   ]
  },
  {
   "cell_type": "code",
   "execution_count": 0,
   "metadata": {
    "colab": {},
    "colab_type": "code",
    "id": "sQJIzOqCHvUG"
   },
   "outputs": [],
   "source": [
    "#Load the keras base model excluding the top layer\n",
    "#TO DO\n",
    "#Hint\n",
    "#base_model=vgg16.VGG16(...)"
   ]
  },
  {
   "cell_type": "code",
   "execution_count": 0,
   "metadata": {
    "colab": {},
    "colab_type": "code",
    "id": "ZB0WCgrSH-PU"
   },
   "outputs": [],
   "source": [
    "#Since we will be using the pretrained weights for the image net dataset we will freeze all layers of our base model(Done for you)\n",
    "for layer in base_model.layers:\n",
    "    layer.trainable = False\n",
    "#We will now add a new last layer according to the number of classes in our dataset using the \"add_new_last_layer()\" function provided to you\n",
    "#TO DO\n",
    "#Hint\n",
    "#vgg_imagenet_new=add_new_last_layer(base_model,...)\n",
    "\n",
    "#Print Model Summary(Done for you)\n",
    "vgg_imagenet_new.summary()"
   ]
  },
  {
   "cell_type": "code",
   "execution_count": 0,
   "metadata": {
    "colab": {},
    "colab_type": "code",
    "id": "8N0pekdtJndS"
   },
   "outputs": [],
   "source": [
    "#Intialize Optimizer for our model(Done for you). You can try using different optimizers with different values\n",
    "adam=Adam(lr=1e-3, beta_1=0.9, beta_2=0.999, epsilon=1e-08)\n",
    "#Compile Model\n",
    "#TO DO\n",
    "#Hint\n",
    "#vgg_imagenet_new.compile(optimizer=adam,...)"
   ]
  },
  {
   "cell_type": "code",
   "execution_count": 0,
   "metadata": {
    "colab": {},
    "colab_type": "code",
    "id": "BkIIzVeeKJbf"
   },
   "outputs": [],
   "source": [
    "#Train the vgg-16 model\n",
    "epochs = \n",
    "batch_size = \n",
    "#TO DO\n",
    "#Hint\n",
    "#history=vgg_imagenet_new.fit(...)\n",
    "#The history variable will be used later to plot accuracy and loss curves"
   ]
  },
  {
   "cell_type": "code",
   "execution_count": 0,
   "metadata": {
    "colab": {},
    "colab_type": "code",
    "id": "CtG-N7iDKjAF"
   },
   "outputs": [],
   "source": [
    "#Lets test our transfer learned model on the test set\n",
    "#Preprocess the test data just like we did before i.e convert all images to shape (32,32,3)"
   ]
  },
  {
   "cell_type": "code",
   "execution_count": 0,
   "metadata": {
    "colab": {},
    "colab_type": "code",
    "id": "_qvuVJaALC2J"
   },
   "outputs": [],
   "source": [
    "#Evaluate the transfer learned model\n",
    "#TO DO\n",
    "#Hint\n",
    "#vgg_imagenet_new.evaluate(...)"
   ]
  },
  {
   "cell_type": "code",
   "execution_count": 0,
   "metadata": {
    "colab": {},
    "colab_type": "code",
    "id": "I9jenvyLLReE"
   },
   "outputs": [],
   "source": [
    "#Plot training and validation accuracy curves using matplot lib\n",
    "#Hint\n",
    "#Values for training and validation accuarcy can be obtained using history.history['accuracy'] and history.history['val_accuracy'] respectively"
   ]
  },
  {
   "cell_type": "code",
   "execution_count": 0,
   "metadata": {
    "colab": {},
    "colab_type": "code",
    "id": "hB3OLXYgL41Y"
   },
   "outputs": [],
   "source": [
    "#Plot training and validation loss curves using matplot lib\n",
    "#Hint\n",
    "#Values for training and validation loss can be obtained using history.history['loss'] and history.history['val_loss'] respectively"
   ]
  },
  {
   "cell_type": "markdown",
   "metadata": {
    "colab_type": "text",
    "id": "4XATeh2MMHMe"
   },
   "source": [
    "## Task 3: Network Evaluation\n",
    "\n",
    "Next you will test your finetuned model by plotting a confusion matrix between classes predicted. You will:\n",
    "\n",
    "- Test your model for images in the test set\n",
    "- Construct a multiclass confusion matrix (for 10 classes) for actual and predicted class of each image and visualize the confusion matrix as a heatmap\n",
    "\n",
    "*You can use scikit-learn's `metrics.confusion_matrix` function. Consult the relevant documentation.* "
   ]
  },
  {
   "cell_type": "code",
   "execution_count": 0,
   "metadata": {
    "colab": {},
    "colab_type": "code",
    "id": "F5oBJSb9MGIn"
   },
   "outputs": [],
   "source": []
  }
 ],
 "metadata": {
  "colab": {
   "collapsed_sections": [],
   "name": "CV_PA#4_Part#1.ipynb",
   "provenance": []
  },
  "kernelspec": {
   "display_name": "Python 3",
   "language": "python",
   "name": "python3"
  },
  "language_info": {
   "codemirror_mode": {
    "name": "ipython",
    "version": 3
   },
   "file_extension": ".py",
   "mimetype": "text/x-python",
   "name": "python",
   "nbconvert_exporter": "python",
   "pygments_lexer": "ipython3",
   "version": "3.8.1"
  }
 },
 "nbformat": 4,
 "nbformat_minor": 1
}
